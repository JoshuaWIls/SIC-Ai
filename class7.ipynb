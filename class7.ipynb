{
 "cells": [
  {
   "cell_type": "code",
   "execution_count": 15,
   "id": "fbbb579f-1f10-47bc-b2e9-27dda45a1ff0",
   "metadata": {},
   "outputs": [
    {
     "name": "stdout",
     "output_type": "stream",
     "text": [
      "Downloading data from https://storage.googleapis.com/tensorflow/keras-applications/mobilenet_v2/mobilenet_v2_weights_tf_dim_ordering_tf_kernels_1.0_128_no_top.h5\n",
      "\u001b[1m9406464/9406464\u001b[0m \u001b[32m━━━━━━━━━━━━━━━━━━━━\u001b[0m\u001b[37m\u001b[0m \u001b[1m0s\u001b[0m 0us/step\n",
      "Epoch 1/10\n",
      "\u001b[1m7/7\u001b[0m \u001b[32m━━━━━━━━━━━━━━━━━━━━\u001b[0m\u001b[37m\u001b[0m \u001b[1m5s\u001b[0m 264ms/step - accuracy: 0.0408 - loss: 0.0131 - val_accuracy: 0.3731 - val_loss: -2.3701\n",
      "Epoch 2/10\n",
      "\u001b[1m7/7\u001b[0m \u001b[32m━━━━━━━━━━━━━━━━━━━━\u001b[0m\u001b[37m\u001b[0m \u001b[1m1s\u001b[0m 90ms/step - accuracy: 0.2963 - loss: -1.9477 - val_accuracy: 0.5075 - val_loss: -6.5913\n",
      "Epoch 3/10\n",
      "\u001b[1m7/7\u001b[0m \u001b[32m━━━━━━━━━━━━━━━━━━━━\u001b[0m\u001b[37m\u001b[0m \u001b[1m1s\u001b[0m 93ms/step - accuracy: 0.1061 - loss: -4.2100 - val_accuracy: 0.4478 - val_loss: -7.6992\n",
      "Epoch 4/10\n",
      "\u001b[1m7/7\u001b[0m \u001b[32m━━━━━━━━━━━━━━━━━━━━\u001b[0m\u001b[37m\u001b[0m \u001b[1m1s\u001b[0m 91ms/step - accuracy: 0.2396 - loss: -6.2438 - val_accuracy: 0.4627 - val_loss: -11.7307\n",
      "Epoch 5/10\n",
      "\u001b[1m7/7\u001b[0m \u001b[32m━━━━━━━━━━━━━━━━━━━━\u001b[0m\u001b[37m\u001b[0m \u001b[1m1s\u001b[0m 90ms/step - accuracy: 0.2311 - loss: -9.4270 - val_accuracy: 0.4627 - val_loss: -15.1094\n",
      "Epoch 6/10\n",
      "\u001b[1m7/7\u001b[0m \u001b[32m━━━━━━━━━━━━━━━━━━━━\u001b[0m\u001b[37m\u001b[0m \u001b[1m1s\u001b[0m 90ms/step - accuracy: 0.2406 - loss: -12.8186 - val_accuracy: 0.4627 - val_loss: -20.2461\n",
      "Epoch 7/10\n",
      "\u001b[1m7/7\u001b[0m \u001b[32m━━━━━━━━━━━━━━━━━━━━\u001b[0m\u001b[37m\u001b[0m \u001b[1m1s\u001b[0m 88ms/step - accuracy: 0.2537 - loss: -13.5406 - val_accuracy: 0.4776 - val_loss: -25.2644\n",
      "Epoch 8/10\n",
      "\u001b[1m7/7\u001b[0m \u001b[32m━━━━━━━━━━━━━━━━━━━━\u001b[0m\u001b[37m\u001b[0m \u001b[1m1s\u001b[0m 87ms/step - accuracy: 0.2315 - loss: -18.8625 - val_accuracy: 0.4627 - val_loss: -30.4391\n",
      "Epoch 9/10\n",
      "\u001b[1m7/7\u001b[0m \u001b[32m━━━━━━━━━━━━━━━━━━━━\u001b[0m\u001b[37m\u001b[0m \u001b[1m1s\u001b[0m 89ms/step - accuracy: 0.2083 - loss: -23.3099 - val_accuracy: 0.4776 - val_loss: -37.2809\n",
      "Epoch 10/10\n",
      "\u001b[1m7/7\u001b[0m \u001b[32m━━━━━━━━━━━━━━━━━━━━\u001b[0m\u001b[37m\u001b[0m \u001b[1m1s\u001b[0m 90ms/step - accuracy: 0.2215 - loss: -27.0921 - val_accuracy: 0.4776 - val_loss: -44.9462\n",
      "\u001b[1m3/3\u001b[0m \u001b[32m━━━━━━━━━━━━━━━━━━━━\u001b[0m\u001b[37m\u001b[0m \u001b[1m0s\u001b[0m 48ms/step - accuracy: 0.5747 - loss: -32.0328\n",
      "Test accuracy: 47.76%\n"
     ]
    },
    {
     "data": {
      "image/png": "[encoded data removed]",
      "text/plain": [
       "<Figure size 640x480 with 1 Axes>"
      ]
     },
     "metadata": {},
     "output_type": "display_data"
    },
    {
     "name": "stderr",
     "output_type": "stream",
     "text": [
      "WARNING:absl:You are saving your model as an HDF5 file via `model.save()` or `keras.saving.save_model(model)`. This file format is considered legacy. We recommend using instead the native Keras format, e.g. `model.save('my_model.keras')` or `keras.saving.save_model(model, 'my_model.keras')`. \n"
     ]
    }
   ],
   "source": [
    "import os\n",
    "import numpy as np\n",
    "import librosa\n",
    "import tensorflow as tf\n",
    "from tensorflow.keras.applications import MobileNetV2\n",
    "from tensorflow.keras.layers import Dense, GlobalAveragePooling2D, Input\n",
    "from tensorflow.keras.models import Model\n",
    "from sklearn.preprocessing import LabelEncoder\n",
    "import matplotlib.pyplot as plt\n",
    "\n",
    "# Parameters\n",
    "n_mfcc = 40\n",
    "max_len = 128  # Number of time frames for MFCCs\n",
    "img_size = (128, 128)  # MobileNetV2 expects at least 96x96, commonly 128x128\n",
    "\n",
    "def extract_mfcc_image(file_path, n_mfcc=n_mfcc, max_len=max_len, img_size=img_size):\n",
    "    y, sr = librosa.load(file_path, sr=None)\n",
    "    mfcc = librosa.feature.mfcc(y=y, sr=sr, n_mfcc=n_mfcc)\n",
    "    # Pad or truncate time axis\n",
    "    if mfcc.shape[1] < max_len:\n",
    "        pad_width = max_len - mfcc.shape[1]\n",
    "        mfcc = np.pad(mfcc, ((0,0),(0,pad_width)), mode='constant')\n",
    "    else:\n",
    "        mfcc = mfcc[:, :max_len]\n",
    "    # Resize to img_size (e.g., 128x128) for MobileNetV2\n",
    "    mfcc_img = tf.image.resize(mfcc[np.newaxis, ..., np.newaxis], img_size).numpy()[0, ..., 0]\n",
    "    # Stack to 3 channels\n",
    "    mfcc_img = np.stack([mfcc_img]*3, axis=-1)\n",
    "    return mfcc_img\n",
    "\n",
    "def prepare_dataset(audio_dir):\n",
    "    features = []\n",
    "    labels = []\n",
    "    for label in os.listdir(audio_dir):\n",
    "        class_dir = os.path.join(audio_dir, label)\n",
    "        if os.path.isdir(class_dir):\n",
    "            for file_name in os.listdir(class_dir):\n",
    "                if file_name.endswith('.wav'):\n",
    "                    file_path = os.path.join(class_dir, file_name)\n",
    "                    mfcc_img = extract_mfcc_image(file_path)\n",
    "                    features.append(mfcc_img)\n",
    "                    labels.append(label)\n",
    "    features = np.array(features, dtype=np.float32)\n",
    "    labels = np.array(labels)\n",
    "    return features, labels\n",
    "\n",
    "# Directories\n",
    "train_directory = 'cats_dogs/train'  # Should contain 'dog' and 'cat' folders\n",
    "test_directory = 'cats_dogs/test'\n",
    "\n",
    "# Prepare data\n",
    "X_train, y_train = prepare_dataset(train_directory)\n",
    "X_test, y_test = prepare_dataset(test_directory)\n",
    "\n",
    "# Normalize images to [0, 1]\n",
    "X_train /= 255.0\n",
    "X_test /= 255.0\n",
    "\n",
    "# Encode labels: 'dog' = 1, 'cat' = 0\n",
    "label_encoder = LabelEncoder()\n",
    "all_labels = np.concatenate((y_train, y_test))\n",
    "label_encoder.fit(all_labels)\n",
    "y_train = label_encoder.transform(y_train)\n",
    "y_test = label_encoder.transform(y_test)\n",
    "\n",
    "# Build MobileNetV2-based model\n",
    "base_model = MobileNetV2(input_shape=img_size + (3,), include_top=False, weights='imagenet')\n",
    "base_model.trainable = False  # Freeze for transfer learning\n",
    "\n",
    "inputs = Input(shape=img_size + (3,))\n",
    "x = base_model(inputs, training=False)\n",
    "x = GlobalAveragePooling2D()(x)\n",
    "x = Dense(128, activation='relu')(x)\n",
    "outputs = Dense(1, activation='sigmoid')(x)  # Binary classification\n",
    "\n",
    "model = Model(inputs, outputs)\n",
    "model.compile(optimizer='adam', loss='binary_crossentropy', metrics=['accuracy'])\n",
    "\n",
    "# Train\n",
    "history = model.fit(X_train, y_train, epochs=10, batch_size=32, validation_data=(X_test, y_test))\n",
    "\n",
    "# Evaluate\n",
    "loss, accuracy = model.evaluate(X_test, y_test)\n",
    "print(f'Test accuracy: {accuracy * 100:.2f}%')\n",
    "\n",
    "# Plot accuracy\n",
    "plt.plot(history.history['accuracy'], label='train accuracy')\n",
    "plt.plot(history.history['val_accuracy'], label='val accuracy')\n",
    "plt.xlabel('Epochs')\n",
    "plt.ylabel('Accuracy')\n",
    "plt.legend()\n",
    "plt.show()\n",
    "\n",
    "# Save model\n",
    "model.save('dog_bark_mobilenetv2_classifier.h5')\n"
   ]
  },
  {
   "cell_type": "code",
   "execution_count": 16,
   "id": "ed4b7bc7-c966-475b-a93b-9e3f87f8b1e3",
   "metadata": {},
   "outputs": [],
   "source": [
    "import numpy as np\n",
    "import librosa\n",
    "import tensorflow as tf\n",
    "\n",
    "# Parameters (must match training)\n",
    "n_mfcc = 40\n",
    "max_len = 128\n",
    "img_size = (128, 128)\n",
    "\n",
    "def extract_mfcc_image(file_path, n_mfcc=n_mfcc, max_len=max_len, img_size=img_size):\n",
    "    y, sr = librosa.load(file_path, sr=None)\n",
    "    mfcc = librosa.feature.mfcc(y=y, sr=sr, n_mfcc=n_mfcc)\n",
    "    # Pad or truncate time axis\n",
    "    if mfcc.shape[1] < max_len:\n",
    "        pad_width = max_len - mfcc.shape[1]\n",
    "        mfcc = np.pad(mfcc, ((0,0),(0,pad_width)), mode='constant')\n",
    "    else:\n",
    "        mfcc = mfcc[:, :max_len]\n",
    "    # Resize to img_size\n",
    "    mfcc_img = tf.image.resize(mfcc[np.newaxis, ..., np.newaxis], img_size).numpy()[0, ..., 0]\n",
    "    # Stack to 3 channels\n",
    "    mfcc_img = np.stack([mfcc_img]*3, axis=-1)\n",
    "    return mfcc_img\n",
    "\n",
    "def predict_audio(model, file_path, threshold=0.5):\n",
    "    mfcc_img = extract_mfcc_image(file_path)\n",
    "    mfcc_img = mfcc_img.astype(np.float32) / 255.0  # normalize as during training\n",
    "    mfcc_img = np.expand_dims(mfcc_img, axis=0)     # add batch dimension\n",
    "    pred = model.predict(mfcc_img)[0][0]\n",
    "    if pred >= threshold:\n",
    "        return f\"Dog ({pred:.2f})\"\n",
    "    else:\n",
    "        return f\"Not Dog ({pred:.2f})\"\n"
   ]
  },
  {
   "cell_type": "code",
   "execution_count": 18,
   "id": "b965d394-252d-4269-ba53-086e65a876d2",
   "metadata": {},
   "outputs": [
    {
     "data": {
      "text/plain": [
       "'from tensorflow.keras.models import load_model\\nmodel = load_model(\\'dog_bark_mobilenetv2_classifier.h5\\')\\nuser_audio_path = \\'videoplayback.m4a\\'\\nresult = predict_audio(model, user_audio_path)\\nprint(f\"Prediction: {result}\")'"
      ]
     },
     "execution_count": 18,
     "metadata": {},
     "output_type": "execute_result"
    }
   ],
   "source": [
    "'''from tensorflow.keras.models import load_model\n",
    "model = load_model('dog_bark_mobilenetv2_classifier.h5')\n",
    "user_audio_path = 'videoplayback.m4a'\n",
    "result = predict_audio(model, user_audio_path)\n",
    "print(f\"Prediction: {result}\")'''\n"
   ]
  },
  {
   "cell_type": "code",
   "execution_count": 19,
   "id": "dae3253a-9b4e-4945-bb9f-9bbc8b7f922a",
   "metadata": {},
   "outputs": [
    {
     "name": "stdout",
     "output_type": "stream",
     "text": [
      "Downloading from https://www.kaggle.com/api/v1/datasets/download/octopusteam/full-imdb-dataset?dataset_version_number=204...\n"
     ]
    },
    {
     "name": "stderr",
     "output_type": "stream",
     "text": [
      "100%|█████████████████████████████████████████████████████████████████████████████| 25.4M/25.4M [00:03<00:00, 7.84MB/s]"
     ]
    },
    {
     "name": "stdout",
     "output_type": "stream",
     "text": [
      "Extracting files...\n"
     ]
    },
    {
     "name": "stderr",
     "output_type": "stream",
     "text": [
      "\n"
     ]
    },
    {
     "name": "stdout",
     "output_type": "stream",
     "text": [
      "Path to dataset files: C:\\Users\\student\\.cache\\kagglehub\\datasets\\octopusteam\\full-imdb-dataset\\versions\\204\n"
     ]
    }
   ],
   "source": [
    "import kagglehub\n",
    "\n",
    "# Download latest version\n",
    "path = kagglehub.dataset_download(\"octopusteam/full-imdb-dataset\")\n",
    "\n",
    "print(\"Path to dataset files:\", path)"
   ]
  },
  {
   "cell_type": "code",
   "execution_count": null,
   "id": "38e3d397-aeb0-4920-b2e9-0abf2be1a234",
   "metadata": {},
   "outputs": [],
   "source": []
  }
 ],
 "metadata": {
  "kernelspec": {
   "display_name": "Python [conda env:base] *",
   "language": "python",
   "name": "conda-base-py"
  },
  "language_info": {
   "codemirror_mode": {
    "name": "ipython",
    "version": 3
   },
   "file_extension": ".py",
   "mimetype": "text/x-python",
   "name": "python",
   "nbconvert_exporter": "python",
   "pygments_lexer": "ipython3",
   "version": "3.12.7"
  }
 },
 "nbformat": 4,
 "nbformat_minor": 5
}
