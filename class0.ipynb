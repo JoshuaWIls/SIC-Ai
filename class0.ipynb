{
 "cells": [
  {
   "cell_type": "code",
   "execution_count": 1,
   "id": "895aa954-f9fa-491e-a293-68b5993f275b",
   "metadata": {},
   "outputs": [
    {
     "name": "stdout",
     "output_type": "stream",
     "text": [
      "Hello\n"
     ]
    }
   ],
   "source": [
    "print(\"Hello\")"
   ]
  },
  {
   "cell_type": "code",
   "execution_count": 8,
   "id": "947ceea6-c61e-46f2-ac8c-9f1eae9f9955",
   "metadata": {},
   "outputs": [
    {
     "ename": "SyntaxError",
     "evalue": "invalid syntax (3054247716.py, line 3)",
     "output_type": "error",
     "traceback": [
      "\u001b[1;36m  Cell \u001b[1;32mIn[8], line 3\u001b[1;36m\u001b[0m\n\u001b[1;33m    result=a/b|\u001b[0m\n\u001b[1;37m               ^\u001b[0m\n\u001b[1;31mSyntaxError\u001b[0m\u001b[1;31m:\u001b[0m invalid syntax\n"
     ]
    }
   ],
   "source": [
    "try:\n",
    "    a,b=int(input(\"Enter two integer\"))\n",
    "    result=a/b\n",
    "    print(\"{}/{}={}\".format(a,b,result))\n",
    "except:\n",
    "    print(\"Error\")"
   ]
  },
  {
   "cell_type": "code",
   "execution_count": 46,
   "id": "a4f67521-1065-4814-83d2-9edd87d3a7d3",
   "metadata": {},
   "outputs": [
    {
     "name": "stdout",
     "output_type": "stream",
     "text": [
      "         *\n",
      "        ***\n",
      "       *****\n",
      "      *******\n",
      "     *********\n",
      "      *******\n",
      "       *****\n",
      "        ***\n",
      "         *\n"
     ]
    }
   ],
   "source": [
    "a=9\n",
    "for j in range(1,9,2):\n",
    "    print((a)*\" \"+j*\"*\")\n",
    "    a-=1\n",
    "for k in range(9,0,-2):\n",
    "    print((a)*\" \"+k*\"*\")\n",
    "    a+=1"
   ]
  },
  {
   "cell_type": "code",
   "execution_count": 84,
   "id": "a7215c6d-cc00-44b3-865b-568709bbdebc",
   "metadata": {},
   "outputs": [
    {
     "name": "stdout",
     "output_type": "stream",
     "text": [
      "         * \n",
      "        * * \n",
      "       * * * \n",
      "      * * * * \n",
      "     * * * * * \n",
      "      * * * * \n",
      "       * * * \n",
      "        * * \n",
      "         * \n"
     ]
    }
   ],
   "source": [
    "a=9\n",
    "for i in range(1,5):\n",
    "    for j in range(i,i+1):\n",
    "        print(a*\" \"+j*\"* \",end=\"\")\n",
    "        a-=1\n",
    "    print()\n",
    "for i in range(5,0,-1):\n",
    "    for j in range(i,i+1):\n",
    "        print(a*\" \"+j*\"* \",end=\"\")\n",
    "        a+=1\n",
    "    print()"
   ]
  },
  {
   "cell_type": "code",
   "execution_count": 89,
   "id": "656c5c5d-d606-4ff7-82f1-b05a65c2ed8e",
   "metadata": {},
   "outputs": [
    {
     "data": {
      "text/plain": [
       "120"
      ]
     },
     "execution_count": 89,
     "metadata": {},
     "output_type": "execute_result"
    }
   ],
   "source": [
    "def fact(n):\n",
    "    if n==1:\n",
    "        return 1\n",
    "    return n*fact(n-1)\n",
    "fact(5)"
   ]
  },
  {
   "cell_type": "code",
   "execution_count": 96,
   "id": "0b195cb6-34d8-4e81-9d61-9b7d080a0b39",
   "metadata": {},
   "outputs": [
    {
     "data": {
      "text/plain": [
       "13"
      ]
     },
     "execution_count": 96,
     "metadata": {},
     "output_type": "execute_result"
    }
   ],
   "source": [
    "def fib(n):\n",
    "    if(n<2):\n",
    "        return 1\n",
    "    return fib(n-1)+fib(n-2)\n",
    "fib(6)"
   ]
  },
  {
   "cell_type": "code",
   "execution_count": 98,
   "id": "69f7f316-ca4d-43c9-8a46-78b2664a61b9",
   "metadata": {},
   "outputs": [
    {
     "name": "stdout",
     "output_type": "stream",
     "text": [
      "1\n",
      "2\n",
      "3\n",
      "5\n",
      "8\n",
      "13\n",
      "21\n",
      "34\n"
     ]
    }
   ],
   "source": [
    "a=0\n",
    "b=1\n",
    "for i in range(8):\n",
    "    c=a+b\n",
    "    a=b\n",
    "    b=c\n",
    "    print(c)"
   ]
  },
  {
   "cell_type": "code",
   "execution_count": null,
   "id": "c5962a2a-5bc6-44a3-876d-de7e647f4665",
   "metadata": {},
   "outputs": [],
   "source": []
  }
 ],
 "metadata": {
  "kernelspec": {
   "display_name": "Python [conda env:base] *",
   "language": "python",
   "name": "conda-base-py"
  },
  "language_info": {
   "codemirror_mode": {
    "name": "ipython",
    "version": 3
   },
   "file_extension": ".py",
   "mimetype": "text/x-python",
   "name": "python",
   "nbconvert_exporter": "python",
   "pygments_lexer": "ipython3",
   "version": "3.12.7"
  }
 },
 "nbformat": 4,
 "nbformat_minor": 5
}
